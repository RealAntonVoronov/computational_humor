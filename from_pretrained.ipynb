{
  "nbformat": 4,
  "nbformat_minor": 0,
  "metadata": {
    "kernelspec": {
      "name": "python3",
      "display_name": "Python 3"
    },
    "language_info": {
      "codemirror_mode": {
        "name": "ipython",
        "version": 3
      },
      "file_extension": ".py",
      "mimetype": "text/x-python",
      "name": "python",
      "nbconvert_exporter": "python",
      "pygments_lexer": "ipython3",
      "version": "3.7.4"
    },
    "colab": {
      "name": "from_pretrained.ipynb",
      "provenance": [],
      "include_colab_link": true
    },
    "accelerator": "GPU"
  },
  "cells": [
    {
      "cell_type": "markdown",
      "metadata": {
        "id": "view-in-github",
        "colab_type": "text"
      },
      "source": [
        "<a href=\"https://colab.research.google.com/github/RealAntonVoronov/computational_humour/blob/master/from_pretrained.ipynb\" target=\"_parent\"><img src=\"https://colab.research.google.com/assets/colab-badge.svg\" alt=\"Open In Colab\"/></a>"
      ]
    },
    {
      "cell_type": "markdown",
      "metadata": {
        "id": "itNh6SeTfkir",
        "colab_type": "text"
      },
      "source": [
        "# Машинный перевод с помощью openNMT для соревнования STAPLE от Duolingo"
      ]
    },
    {
      "cell_type": "markdown",
      "metadata": {
        "id": "GolaUOBhf-A2",
        "colab_type": "text"
      },
      "source": [
        "## Загрузка данных. \n",
        "\n",
        "Так как данных предоставленных орагнизаторами явно недостаточно для того чтобы обучить полноценную языковую модель, для каждого из 5 языков были загружены параллельные корпуса субтитров. (http://opus.nlpl.eu/OpenSubtitles-v2016.php) Данные можно также найти на сервере nlp1 в папке `voronov/data/OpenSubtitles`."
      ]
    },
    {
      "cell_type": "code",
      "metadata": {
        "id": "iKQG_NetqIko",
        "colab_type": "code",
        "outputId": "f4d067a4-f22c-447c-e4e4-1bb22b59364f",
        "colab": {
          "base_uri": "https://localhost:8080/",
          "height": 124
        }
      },
      "source": [
        "# this is for colab skip if you don't need to connect to drive)\n",
        "from google.colab import drive\n",
        "drive.mount('/content/gdrive')"
      ],
      "execution_count": 1,
      "outputs": [
        {
          "output_type": "stream",
          "text": [
            "Go to this URL in a browser: https://accounts.google.com/o/oauth2/auth?client_id=947318989803-6bn6qk8qdgf4n4g3pfee6491hc0brc4i.apps.googleusercontent.com&redirect_uri=urn%3aietf%3awg%3aoauth%3a2.0%3aoob&response_type=code&scope=email%20https%3a%2f%2fwww.googleapis.com%2fauth%2fdocs.test%20https%3a%2f%2fwww.googleapis.com%2fauth%2fdrive%20https%3a%2f%2fwww.googleapis.com%2fauth%2fdrive.photos.readonly%20https%3a%2f%2fwww.googleapis.com%2fauth%2fpeopleapi.readonly\n",
            "\n",
            "Enter your authorization code:\n",
            "··········\n",
            "Mounted at /content/gdrive\n"
          ],
          "name": "stdout"
        }
      ]
    },
    {
      "cell_type": "code",
      "metadata": {
        "id": "zduzEh15reOF",
        "colab_type": "code",
        "colab": {
          "base_uri": "https://localhost:8080/",
          "height": 34
        },
        "outputId": "ce088066-69ff-43e8-ce97-8ec02acd9ab5"
      },
      "source": [
        "import os\n",
        "os.chdir('gdrive/My Drive/data/work/Panchenko/corpora/OpenSubtitles')\n",
        "!mkdir en_hu\n",
        "os.chdir('en_hu/')"
      ],
      "execution_count": 1,
      "outputs": [
        {
          "output_type": "stream",
          "text": [
            "mkdir: cannot create directory ‘en_hu’: File exists\n"
          ],
          "name": "stdout"
        }
      ]
    },
    {
      "cell_type": "code",
      "metadata": {
        "id": "nOJD30m1rH8G",
        "colab_type": "code",
        "colab": {
          "base_uri": "https://localhost:8080/",
          "height": 86
        },
        "outputId": "b5a04591-12fd-4f59-8bd8-4bc06c2610ec"
      },
      "source": [
        "!wget http://opus.nlpl.eu/download.php?f=OpenSubtitles/v2016/moses/en-hu.txt.zip\n",
        "!unzip  'download.php?f=OpenSubtitles%2Fv2016%2Fmoses%2Fen-hu.txt.zip'"
      ],
      "execution_count": 6,
      "outputs": [
        {
          "output_type": "stream",
          "text": [
            "Archive:  download.php?f=OpenSubtitles%2Fv2016%2Fmoses%2Fen-hu.txt.zip\n",
            "  inflating: OpenSubtitles.en-hu.en  \n",
            "  inflating: OpenSubtitles.en-hu.hu  \n",
            "  inflating: OpenSubtitles.en-hu.ids  \n"
          ],
          "name": "stdout"
        }
      ]
    },
    {
      "cell_type": "markdown",
      "metadata": {
        "id": "2qWWJBpps_-v",
        "colab_type": "text"
      },
      "source": [
        "Для правильного запуска openNMT понадобится разбить данные на трейн часть и на валидационную. Я решил использовать всего 1 миллион пар предложений для обучения и 5000 пар для валидации (это не в прямом смысле валидация, она нужна только для корректной работы скриптов openNMT, в их руководстве сказано, что 5000 будет достаточно)  "
      ]
    },
    {
      "cell_type": "code",
      "metadata": {
        "id": "Zxn2nykatlXj",
        "colab_type": "code",
        "colab": {}
      },
      "source": [
        "!head -n 1000000 'OpenSubtitles.en-hu.en' > 'train_subtitles_1m_en.txt'\n",
        "!head -n 1000000 'OpenSubtitles.en-hu.hu' > 'train_subtitles_1m_hu.txt'\n",
        "!tail -n 5000 'OpenSubtitles.en-hu.en' > 'dev_subtitles_en.txt'\n",
        "!tail -n 5000 'OpenSubtitles.en-hu.hu' > 'dev_subtitles_hu.txt'"
      ],
      "execution_count": 0,
      "outputs": []
    },
    {
      "cell_type": "markdown",
      "metadata": {
        "id": "pCloP520MCl-",
        "colab_type": "text"
      },
      "source": [
        "## Данные Duolingo\n",
        "\n",
        "Для составления предсказания для соревнования Duolingo я взял файл формата `*.aws_baseline.pred.txt`, который содержит по одному референсному переводу от Amazon для каждого предложения, предобработал его (убрал префиксы у строчек, соединил строчки \"сообщение-перевод\" в одну, разделённую табом, удалил пустые строчки) и разбил на два файла: с исходным языком и таргетным. Для того чтобы на стадии предсказания точно не возникло незнакомых для модели слов, я добавил полученные файлы в обучающую выборку."
      ]
    },
    {
      "cell_type": "code",
      "metadata": {
        "id": "U0pRNrQsNCuG",
        "colab_type": "code",
        "colab": {
          "base_uri": "https://localhost:8080/",
          "height": 86
        },
        "outputId": "88ae0480-37fb-426d-e977-2df733c93c25"
      },
      "source": [
        "os.chdir('../../../duolingo/data/en-hu/train')\n",
        "#remove all markers | remove blank lines | combine every two lines in one\n",
        "!sed 's/.*|//g' train.en_hu.aws_baseline.pred.txt | grep . | paste -d \"\\t\"  - - > train_duolingo_en_hu.txt"
      ],
      "execution_count": 5,
      "outputs": [
        {
          "output_type": "stream",
          "text": [
            "train_duolingo_en_hu.txt\t   train.en_hu.gold.txt\n",
            "train_duolingo_en.txt\t\t   train-sents.clean.bpe.en\n",
            "train_duolingo_hu.txt\t\t   train-sents.clean.bpe.hu\n",
            "train.en_hu.aws_baseline.pred.txt\n"
          ],
          "name": "stdout"
        }
      ]
    },
    {
      "cell_type": "code",
      "metadata": {
        "id": "Ljv8pWxNOr8o",
        "colab_type": "code",
        "colab": {}
      },
      "source": [
        "with open('train_duolingo_en_hu.txt') as f, open('train_duolingo_en.txt', 'w') as file_en, \\\n",
        "open('train_duolingo_hu.txt', 'w') as file_hu:\n",
        "    for line in f.readlines():\n",
        "        pair = line.strip().split('\\t')\n",
        "        file_en.writelines(pair[0]+'\\n')\n",
        "        file_hu.writelines(pair[1]+'\\n')"
      ],
      "execution_count": 0,
      "outputs": []
    },
    {
      "cell_type": "code",
      "metadata": {
        "id": "ZewWVEqpSSdb",
        "colab_type": "code",
        "colab": {
          "base_uri": "https://localhost:8080/",
          "height": 191
        },
        "outputId": "331bdcf1-1013-44db-9786-9aa9f346e938"
      },
      "source": [
        "!tail -5 ../../../../corpora/OpenSubtitles/en_hu/train_subtitles_1m_en.txt\n",
        "!cat train_duolingo_en.txt >> ../../../../corpora/OpenSubtitles/en_hu/train_subtitles_1m_en.txt\n",
        "!cat train_duolingo_hu.txt >> ../../../../corpora/OpenSubtitles/en_hu/train_subtitles_1m_hu.txt\n",
        "!tail -5 ../../../../corpora/OpenSubtitles/en_hu/train_subtitles_1m_en.txt"
      ],
      "execution_count": 6,
      "outputs": [
        {
          "output_type": "stream",
          "text": [
            "Come on. - Sir.\n",
            "Digger?\n",
            "Gentle with him lads.\n",
            "See if the back is clear.\n",
            "Can I help?\n",
            "that game would have changed my life.\n",
            "i do not want him to open the window.\n",
            "we have thousands of offices.\n",
            "he goes to school.\n",
            "and the patients are old.\n"
          ],
          "name": "stdout"
        }
      ]
    },
    {
      "cell_type": "markdown",
      "metadata": {
        "id": "_0SfVDu7uzDD",
        "colab_type": "text"
      },
      "source": [
        "## Обучение"
      ]
    },
    {
      "cell_type": "code",
      "metadata": {
        "id": "BXzIhLk8llEW",
        "colab_type": "code",
        "outputId": "81a4d433-2456-4ead-d5fc-480190dcb69b",
        "colab": {
          "base_uri": "https://localhost:8080/",
          "height": 523
        }
      },
      "source": [
        "!pip install OpenNMT-py"
      ],
      "execution_count": 1,
      "outputs": [
        {
          "output_type": "stream",
          "text": [
            "Requirement already satisfied: OpenNMT-py in /usr/local/lib/python3.6/dist-packages (1.0.2)\n",
            "Requirement already satisfied: tensorboard>=1.14 in /tensorflow-1.15.0/python3.6 (from OpenNMT-py) (1.15.0)\n",
            "Requirement already satisfied: pyonmttok==1.*; platform_system == \"Linux\" in /usr/local/lib/python3.6/dist-packages (from OpenNMT-py) (1.18.3)\n",
            "Requirement already satisfied: tqdm~=4.30.0 in /usr/local/lib/python3.6/dist-packages (from OpenNMT-py) (4.30.0)\n",
            "Requirement already satisfied: six in /usr/local/lib/python3.6/dist-packages (from OpenNMT-py) (1.12.0)\n",
            "Requirement already satisfied: flask in /usr/local/lib/python3.6/dist-packages (from OpenNMT-py) (1.1.1)\n",
            "Requirement already satisfied: waitress in /usr/local/lib/python3.6/dist-packages (from OpenNMT-py) (1.4.3)\n",
            "Requirement already satisfied: torch>=1.4.0 in /usr/local/lib/python3.6/dist-packages (from OpenNMT-py) (1.4.0)\n",
            "Requirement already satisfied: configargparse in /usr/local/lib/python3.6/dist-packages (from OpenNMT-py) (1.1)\n",
            "Requirement already satisfied: future in /usr/local/lib/python3.6/dist-packages (from OpenNMT-py) (0.16.0)\n",
            "Requirement already satisfied: torchtext==0.4.0 in /usr/local/lib/python3.6/dist-packages (from OpenNMT-py) (0.4.0)\n",
            "Requirement already satisfied: markdown>=2.6.8 in /usr/local/lib/python3.6/dist-packages (from tensorboard>=1.14->OpenNMT-py) (3.2.1)\n",
            "Requirement already satisfied: wheel>=0.26; python_version >= \"3\" in /usr/local/lib/python3.6/dist-packages (from tensorboard>=1.14->OpenNMT-py) (0.34.2)\n",
            "Requirement already satisfied: numpy>=1.12.0 in /usr/local/lib/python3.6/dist-packages (from tensorboard>=1.14->OpenNMT-py) (1.18.1)\n",
            "Requirement already satisfied: werkzeug>=0.11.15 in /usr/local/lib/python3.6/dist-packages (from tensorboard>=1.14->OpenNMT-py) (1.0.0)\n",
            "Requirement already satisfied: grpcio>=1.6.3 in /usr/local/lib/python3.6/dist-packages (from tensorboard>=1.14->OpenNMT-py) (1.24.3)\n",
            "Requirement already satisfied: protobuf>=3.6.0 in /usr/local/lib/python3.6/dist-packages (from tensorboard>=1.14->OpenNMT-py) (3.10.0)\n",
            "Requirement already satisfied: absl-py>=0.4 in /usr/local/lib/python3.6/dist-packages (from tensorboard>=1.14->OpenNMT-py) (0.9.0)\n",
            "Requirement already satisfied: setuptools>=41.0.0 in /usr/local/lib/python3.6/dist-packages (from tensorboard>=1.14->OpenNMT-py) (45.2.0)\n",
            "Requirement already satisfied: Jinja2>=2.10.1 in /usr/local/lib/python3.6/dist-packages (from flask->OpenNMT-py) (2.11.1)\n",
            "Requirement already satisfied: click>=5.1 in /usr/local/lib/python3.6/dist-packages (from flask->OpenNMT-py) (7.1.1)\n",
            "Requirement already satisfied: itsdangerous>=0.24 in /usr/local/lib/python3.6/dist-packages (from flask->OpenNMT-py) (1.1.0)\n",
            "Requirement already satisfied: requests in /usr/local/lib/python3.6/dist-packages (from torchtext==0.4.0->OpenNMT-py) (2.21.0)\n",
            "Requirement already satisfied: MarkupSafe>=0.23 in /usr/local/lib/python3.6/dist-packages (from Jinja2>=2.10.1->flask->OpenNMT-py) (1.1.1)\n",
            "Requirement already satisfied: idna<2.9,>=2.5 in /usr/local/lib/python3.6/dist-packages (from requests->torchtext==0.4.0->OpenNMT-py) (2.8)\n",
            "Requirement already satisfied: urllib3<1.25,>=1.21.1 in /usr/local/lib/python3.6/dist-packages (from requests->torchtext==0.4.0->OpenNMT-py) (1.24.3)\n",
            "Requirement already satisfied: chardet<3.1.0,>=3.0.2 in /usr/local/lib/python3.6/dist-packages (from requests->torchtext==0.4.0->OpenNMT-py) (3.0.4)\n",
            "Requirement already satisfied: certifi>=2017.4.17 in /usr/local/lib/python3.6/dist-packages (from requests->torchtext==0.4.0->OpenNMT-py) (2019.11.28)\n"
          ],
          "name": "stdout"
        }
      ]
    },
    {
      "cell_type": "code",
      "metadata": {
        "id": "wUyj_tdgz0Hu",
        "colab_type": "code",
        "colab": {}
      },
      "source": [
        "import os\n",
        "os.chdir('../../../language_models/en_hu/openNMT')"
      ],
      "execution_count": 0,
      "outputs": []
    },
    {
      "cell_type": "code",
      "metadata": {
        "id": "5l9CKGY600We",
        "colab_type": "code",
        "outputId": "fb85ae0c-1822-4be0-de5e-b4c9a1bd15d5",
        "colab": {
          "base_uri": "https://localhost:8080/",
          "height": 225
        }
      },
      "source": [
        "!onmt_preprocess -train_src ../../../corpora/OpenSubtitles/en_hu/train_subtitles_1m_en.txt \\\n",
        "-train_tgt ../../../corpora/OpenSubtitles/en_hu/train_subtitles_1m_hu.txt \\\n",
        "-valid_src ../../../corpora/OpenSubtitles/en_hu/dev_subtitles_en.txt \\\n",
        "-valid_tgt ../../../corpora/OpenSubtitles/en_hu/dev_subtitles_hu.txt \\\n",
        "-tgt_vocab_size 50000 -src_vocab_size 50000 --src_seq_length 25 --tgt_seq_length 25 \\\n",
        "-save_data nmt_subs_en_hu"
      ],
      "execution_count": 11,
      "outputs": [
        {
          "output_type": "stream",
          "text": [
            "[2020-03-17 13:54:28,653 INFO] Extracting features...\n",
            "[2020-03-17 13:54:28,660 INFO]  * number of source features: 0.\n",
            "[2020-03-17 13:54:28,660 INFO]  * number of target features: 0.\n",
            "[2020-03-17 13:54:28,660 INFO] Building `Fields` object...\n",
            "[2020-03-17 13:54:28,660 INFO] Building & saving training data...\n",
            "[2020-03-17 13:54:29,864 INFO] Building shard 0.\n",
            "[2020-03-17 13:54:56,612 INFO]  * saving 0th train data shard to openNMT/nmt_subs_en_hu.train.0.pt.\n",
            "[2020-03-17 13:55:15,907 INFO]  * tgt vocab size: 50004.\n",
            "[2020-03-17 13:55:16,181 INFO]  * src vocab size: 50002.\n",
            "[2020-03-17 13:55:17,316 INFO] Building & saving validation data...\n",
            "[2020-03-17 13:55:18,179 INFO] Building shard 0.\n",
            "[2020-03-17 13:55:18,307 INFO]  * saving 0th valid data shard to openNMT/nmt_subs_en_hu.valid.0.pt.\n"
          ],
          "name": "stdout"
        }
      ]
    },
    {
      "cell_type": "markdown",
      "metadata": {
        "id": "I-dtRaDayJS2",
        "colab_type": "text"
      },
      "source": [
        "Это облегченная модель трансформера (чтобы обучение занимало адекватное время (~12 часов). Я уменьшил `rnn_size`, `word_vec_size`, `heads`, `training_steps` в 2 раза. Остальное оставил таким же как указано в рекомендациях openNMT, которые якобы повторяют исходный сетап Google."
      ]
    },
    {
      "cell_type": "code",
      "metadata": {
        "id": "WpkCSmAIJ-_z",
        "colab_type": "code",
        "colab": {}
      },
      "source": [
        "!onmt_train -data nmt_subs_en_hu -save_model transformer \\\n",
        "        -layers 6 -rnn_size 256 -word_vec_size 256 -transformer_ff 2048 -heads 4  \\\n",
        "        -encoder_type transformer -decoder_type transformer -position_encoding \\\n",
        "        -train_steps 100000  -max_generator_batches 2 -dropout 0.1 \\\n",
        "        -batch_size 4096 -batch_type tokens -normalization tokens  -accum_count 2 \\\n",
        "        -optim adam -adam_beta2 0.998 -decay_method noam -warmup_steps 8000 -learning_rate 2 \\\n",
        "        -max_grad_norm 0 -param_init 0  -param_init_glorot \\\n",
        "        -label_smoothing 0.1 -valid_steps 10000 -save_checkpoint_steps 10000 \\\n",
        "        -world_size 1 -gpu_ranks 0\n",
        "# i omitted output with training statistics for better representation"
      ],
      "execution_count": 0,
      "outputs": []
    },
    {
      "cell_type": "markdown",
      "metadata": {
        "id": "w0B6UaaaPd2x",
        "colab_type": "text"
      },
      "source": [
        "Теперь у нас есть модель-переводчик, исходный текст для перевода и их референсный перевод от Amazon. Для примера выведем 10 лучших переводов одного предложения (автоматическое определение правильного числа переводов для каждого предложения -- потом)"
      ]
    },
    {
      "cell_type": "code",
      "metadata": {
        "id": "8dqwyjbkACNV",
        "colab_type": "code",
        "colab": {}
      },
      "source": [
        "os.chdir('../../../../language_models/en_hu/openNMT')\n",
        "!onmt_translate -model transformer_step_50000.pt -src ../../../duolingo/data/en-hu/train/train_duolingo_en.txt \\\n",
        "-output train_duolingo_pred10_hu.txt -n_best 10 -replace_unk"
      ],
      "execution_count": 0,
      "outputs": []
    },
    {
      "cell_type": "code",
      "metadata": {
        "id": "uAFhX5iEPbj3",
        "colab_type": "code",
        "outputId": "99d04a6f-f62e-418e-c2af-cef0ef5d359e",
        "colab": {
          "base_uri": "https://localhost:8080/",
          "height": 208
        }
      },
      "source": [
        "!head -n 11 train_duolingo_pred10_hu.txt"
      ],
      "execution_count": 12,
      "outputs": [
        {
          "output_type": "stream",
          "text": [
            "Vannak animals?\n",
            "Vannak Szereti az animals?\n",
            "Szereti az animals?\n",
            "Vannak animals? ?\n",
            "Vannak egész animals?\n",
            "Vannak Szereti az Szereti az animals?\n",
            "Vannak Szereti az animals? .\n",
            "Vannak Szereti az animals? - lgen.\n",
            "Vannak Szereti az animals? - Igen.\n",
            "Vannak Szereti az animals? - Vannak animals?\n",
            "skin van.\n"
          ],
          "name": "stdout"
        }
      ]
    },
    {
      "cell_type": "markdown",
      "metadata": {
        "id": "KpX2A0SIUO3K",
        "colab_type": "text"
      },
      "source": [
        "## TODO: Evaluation\n",
        "\n"
      ]
    },
    {
      "cell_type": "code",
      "metadata": {
        "id": "NvJtsDEnBu8n",
        "colab_type": "code",
        "outputId": "06cf10d7-c445-43d6-8035-1ac87610bd57",
        "colab": {
          "base_uri": "https://localhost:8080/",
          "height": 52
        }
      },
      "source": [
        "\"\"\"from nltk.translate.bleu_score import corpus_bleu\n",
        "import re\n",
        "\n",
        "references = []\n",
        "predictions = []\n",
        "with open('../../duolingo/data/en-pt/train/train_duolingo_pt.txt') as gold:\n",
        "    for sentence in gold.readlines():\n",
        "        s = ' '.join(re.split(r'([^0-9a-zÀ-ÿ\\s])',sentence.lower()))\n",
        "        s = re.sub(r' +', ' ', s)\n",
        "        references.append(s.split())\n",
        "with open('openNMT/train_duolingo_pred_pt.txt') as preds:\n",
        "    for sentence in preds.readlines():\n",
        "        s = ' '.join(re.split(r'([^0-9a-zÀ-ÿ\\s])',sentence.lower()))\n",
        "        s = re.sub(r' +', ' ', s)\n",
        "        predictions.append(s.split())\n",
        "print(predictions[1])\n",
        "print(references[1])\"\"\""
      ],
      "execution_count": 0,
      "outputs": [
        {
          "output_type": "stream",
          "text": [
            "['a', 'livraria', 'não', 'está', 'nesta', 'rua', '.']\n",
            "['a', 'livraria', 'não', 'é', 'nesta', 'rua', '.']\n"
          ],
          "name": "stdout"
        }
      ]
    },
    {
      "cell_type": "code",
      "metadata": {
        "id": "jRNkR-xmE3-1",
        "colab_type": "code",
        "outputId": "58774ac3-251d-40a2-f730-cb924075e6b0",
        "colab": {
          "base_uri": "https://localhost:8080/",
          "height": 104
        }
      },
      "source": [
        "# corpus_bleu(references, predictions)"
      ],
      "execution_count": 0,
      "outputs": [
        {
          "output_type": "stream",
          "text": [
            "/usr/local/lib/python3.6/dist-packages/nltk/translate/bleu_score.py:490: UserWarning: \n",
            "Corpus/Sentence contains 0 counts of 2-gram overlaps.\n",
            "BLEU scores might be undesirable; use SmoothingFunction().\n",
            "  warnings.warn(_msg)\n"
          ],
          "name": "stderr"
        },
        {
          "output_type": "execute_result",
          "data": {
            "text/plain": [
              "0.6902782199046656"
            ]
          },
          "metadata": {
            "tags": []
          },
          "execution_count": 55
        }
      ]
    },
    {
      "cell_type": "code",
      "metadata": {
        "id": "aRSePtAJrRcv",
        "colab_type": "code",
        "colab": {}
      },
      "source": [
        ""
      ],
      "execution_count": 0,
      "outputs": []
    }
  ]
}